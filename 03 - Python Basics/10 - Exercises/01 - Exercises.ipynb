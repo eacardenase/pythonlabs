{
 "cells": [
  {
   "cell_type": "markdown",
   "metadata": {},
   "source": [
    "### Exercises"
   ]
  },
  {
   "cell_type": "markdown",
   "metadata": {},
   "source": [
    "### Exercise 1"
   ]
  },
  {
   "cell_type": "markdown",
   "metadata": {},
   "source": [
    "Given two floats `a` and `b`, and some tolerance `tol`, write an expression that will test whether `a` and `b` are within `tol` of each other."
   ]
  },
  {
   "cell_type": "code",
   "execution_count": 1,
   "metadata": {},
   "outputs": [
    {
     "name": "stdout",
     "output_type": "stream",
     "text": [
      "False\n",
      "True\n"
     ]
    }
   ],
   "source": [
    "a = 0.3\n",
    "b = 0.1 + 0.1 + 0.1\n",
    "tol = 0.000000000000001\n",
    "\n",
    "print(a == b)\n",
    "print(abs(a - b) < tol)"
   ]
  },
  {
   "cell_type": "markdown",
   "metadata": {},
   "source": [
    "### Exercise 2"
   ]
  },
  {
   "cell_type": "markdown",
   "metadata": {},
   "source": [
    "Assume you have some variable `elapsed` that contains elapsed time in seconds."
   ]
  },
  {
   "cell_type": "markdown",
   "metadata": {},
   "source": [
    "Create three new variables: `hours`, `minutes` and `seconds`, that represent the number of hours, minutes and seconds represented by `elapsed`."
   ]
  },
  {
   "cell_type": "markdown",
   "metadata": {},
   "source": [
    "For example, if `elapsed = 7835`, then `hours = 2`, `minutes = 10` and `seconds = 35`"
   ]
  },
  {
   "cell_type": "code",
   "execution_count": 12,
   "metadata": {},
   "outputs": [
    {
     "name": "stdout",
     "output_type": "stream",
     "text": [
      "Hours: 2\n",
      "Minutes: 10\n",
      "Seconds: 35\n",
      "2:10:35\n"
     ]
    }
   ],
   "source": [
    "elapsed = 7835\n",
    "hours = elapsed // (60 * 60)\n",
    "minutes = (elapsed % (60 * 60)) // 60\n",
    "seconds = (elapsed % (60 * 60)) % 60\n",
    "\n",
    "print(\"Hours:\", hours)\n",
    "print(\"Minutes:\", minutes)\n",
    "print(\"Seconds:\", seconds)\n",
    "print(hours, minutes, seconds, sep=\":\")"
   ]
  }
 ],
 "metadata": {
  "kernelspec": {
   "display_name": "env",
   "language": "python",
   "name": "python3"
  },
  "language_info": {
   "codemirror_mode": {
    "name": "ipython",
    "version": 3
   },
   "file_extension": ".py",
   "mimetype": "text/x-python",
   "name": "python",
   "nbconvert_exporter": "python",
   "pygments_lexer": "ipython3",
   "version": "3.9.6"
  }
 },
 "nbformat": 4,
 "nbformat_minor": 4
}
