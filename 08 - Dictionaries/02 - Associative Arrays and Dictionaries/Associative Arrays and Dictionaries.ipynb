{
 "cells": [
  {
   "cell_type": "markdown",
   "metadata": {},
   "source": [
    "### Associative Arrays and Dictionaries"
   ]
  },
  {
   "cell_type": "markdown",
   "metadata": {},
   "source": [
    "As we saw in the lecture, dictionaries are essentially a way of associating two values together - a **key** and a **value**."
   ]
  },
  {
   "cell_type": "markdown",
   "metadata": {},
   "source": [
    "Think of it like a regular dictionary - the key is the word you are looking for in the dictionary, and the value is the definition of the word."
   ]
  },
  {
   "cell_type": "markdown",
   "metadata": {},
   "source": [
    "Dictionaries are organized in a way that makes searching for a word much more efficient than just scanning all the words one by one until you find the one you are looking for."
   ]
  },
  {
   "cell_type": "markdown",
   "metadata": {},
   "source": [
    "The same goes with dictionaries in Python, key lookups in dictionaries are very efficient."
   ]
  },
  {
   "cell_type": "markdown",
   "metadata": {},
   "source": [
    "We can create a dictionary using a literal:"
   ]
  },
  {
   "cell_type": "code",
   "execution_count": 17,
   "metadata": {},
   "outputs": [],
   "source": [
    "d = {'a': 1, 'b': 2, 'c': 3}"
   ]
  },
  {
   "cell_type": "code",
   "execution_count": 18,
   "metadata": {},
   "outputs": [],
   "source": [
    "d[(1, 2)] = 'tuple'"
   ]
  },
  {
   "cell_type": "code",
   "execution_count": 19,
   "metadata": {},
   "outputs": [
    {
     "data": {
      "text/plain": [
       "{'a': 1, 'b': 2, 'c': 3, (1, 2): 'tuple'}"
      ]
     },
     "execution_count": 19,
     "metadata": {},
     "output_type": "execute_result"
    }
   ],
   "source": [
    "d"
   ]
  },
  {
   "cell_type": "code",
   "execution_count": 20,
   "metadata": {},
   "outputs": [
    {
     "data": {
      "text/plain": [
       "'tuple'"
      ]
     },
     "execution_count": 20,
     "metadata": {},
     "output_type": "execute_result"
    }
   ],
   "source": [
    "d[(1, 2)]"
   ]
  },
  {
   "cell_type": "code",
   "execution_count": 21,
   "metadata": {},
   "outputs": [
    {
     "data": {
      "text/plain": [
       "{'a': 1, 'b': 2, 'c': 3}"
      ]
     },
     "execution_count": 21,
     "metadata": {},
     "output_type": "execute_result"
    }
   ],
   "source": [
    "del d[(1, 2)]\n",
    "d"
   ]
  },
  {
   "cell_type": "code",
   "execution_count": 22,
   "metadata": {},
   "outputs": [
    {
     "name": "stdout",
     "output_type": "stream",
     "text": [
      "-3767325407203651543\n",
      "-3767325407203651543\n",
      "12\n",
      "12\n",
      "322818021289917443\n",
      "322818021289917443\n",
      "-3550055125485641917\n"
     ]
    }
   ],
   "source": [
    "print(hash('python'))\n",
    "print(hash('python'))\n",
    "print(hash(12))\n",
    "print(hash(12))\n",
    "print(hash(3.14))\n",
    "print(hash(3.14))\n",
    "print(hash((1, 2)))\n",
    "# print(hash((1, [\"1\", \"2\"]))) # TypeError"
   ]
  },
  {
   "cell_type": "markdown",
   "metadata": {},
   "source": [
    "We can also use whitespace to make dictionary literals more readable if we prefer:"
   ]
  },
  {
   "cell_type": "code",
   "execution_count": 27,
   "metadata": {},
   "outputs": [],
   "source": [
    "person = {\n",
    "    'first_name': 'Eric',\n",
    "    'last_name': 'Idle',\n",
    "    'year_born': 2016 \n",
    "}"
   ]
  },
  {
   "cell_type": "code",
   "execution_count": 28,
   "metadata": {},
   "outputs": [
    {
     "data": {
      "text/plain": [
       "{'first_name': 'Eric', 'last_name': 'Idle', 'year_born': 2016}"
      ]
     },
     "execution_count": 28,
     "metadata": {},
     "output_type": "execute_result"
    }
   ],
   "source": [
    "person"
   ]
  },
  {
   "cell_type": "markdown",
   "metadata": {},
   "source": [
    "To look up the value for a key in a dictionary we use square brackets (just like a sequence, except we don't use indexes, but keys):"
   ]
  },
  {
   "cell_type": "code",
   "execution_count": 29,
   "metadata": {},
   "outputs": [
    {
     "data": {
      "text/plain": [
       "2016"
      ]
     },
     "execution_count": 29,
     "metadata": {},
     "output_type": "execute_result"
    }
   ],
   "source": [
    "person['year_born']"
   ]
  },
  {
   "cell_type": "markdown",
   "metadata": {},
   "source": [
    "To replace the value for an existing key, we just use an assignment:"
   ]
  },
  {
   "cell_type": "code",
   "execution_count": 30,
   "metadata": {},
   "outputs": [],
   "source": [
    "person['year_born'] = 1943"
   ]
  },
  {
   "cell_type": "markdown",
   "metadata": {},
   "source": [
    "And the data was updated:"
   ]
  },
  {
   "cell_type": "code",
   "execution_count": 31,
   "metadata": {},
   "outputs": [
    {
     "data": {
      "text/plain": [
       "{'first_name': 'Eric', 'last_name': 'Idle', 'year_born': 1943}"
      ]
     },
     "execution_count": 31,
     "metadata": {},
     "output_type": "execute_result"
    }
   ],
   "source": [
    "person"
   ]
  },
  {
   "cell_type": "markdown",
   "metadata": {},
   "source": [
    "To create a new key in a dictionary, again just use an assignment:"
   ]
  },
  {
   "cell_type": "code",
   "execution_count": 32,
   "metadata": {},
   "outputs": [],
   "source": [
    "person['month_born'] = 'March'"
   ]
  },
  {
   "cell_type": "code",
   "execution_count": 33,
   "metadata": {},
   "outputs": [
    {
     "data": {
      "text/plain": [
       "{'first_name': 'Eric',\n",
       " 'last_name': 'Idle',\n",
       " 'year_born': 1943,\n",
       " 'month_born': 'March'}"
      ]
     },
     "execution_count": 33,
     "metadata": {},
     "output_type": "execute_result"
    }
   ],
   "source": [
    "person"
   ]
  },
  {
   "cell_type": "markdown",
   "metadata": {},
   "source": [
    "So far we've been using strings as dictionary keys, and that is very common, but keys can be any Python object that is hashable, like strings, numerics and certain objects (we'll see this later in the course)."
   ]
  },
  {
   "cell_type": "code",
   "execution_count": 34,
   "metadata": {},
   "outputs": [],
   "source": [
    "d = {3.14: 'pi', 2: 'even', 'prime': 7}"
   ]
  },
  {
   "cell_type": "code",
   "execution_count": 35,
   "metadata": {},
   "outputs": [
    {
     "data": {
      "text/plain": [
       "{3.14: 'pi', 2: 'even', 'prime': 7}"
      ]
     },
     "execution_count": 35,
     "metadata": {},
     "output_type": "execute_result"
    }
   ],
   "source": [
    "d"
   ]
  },
  {
   "cell_type": "markdown",
   "metadata": {},
   "source": [
    "As you can see we have a dictionary with a mix of key types - an integer, a float, and a string."
   ]
  },
  {
   "cell_type": "code",
   "execution_count": 39,
   "metadata": {},
   "outputs": [
    {
     "data": {
      "text/plain": [
       "'even'"
      ]
     },
     "execution_count": 39,
     "metadata": {},
     "output_type": "execute_result"
    }
   ],
   "source": [
    "d[2]"
   ]
  },
  {
   "cell_type": "code",
   "execution_count": 40,
   "metadata": {},
   "outputs": [
    {
     "data": {
      "text/plain": [
       "'pi'"
      ]
     },
     "execution_count": 40,
     "metadata": {},
     "output_type": "execute_result"
    }
   ],
   "source": [
    "d[3.14]"
   ]
  },
  {
   "cell_type": "code",
   "execution_count": 41,
   "metadata": {},
   "outputs": [
    {
     "data": {
      "text/plain": [
       "7"
      ]
     },
     "execution_count": 41,
     "metadata": {},
     "output_type": "execute_result"
    }
   ],
   "source": [
    "d['prime']"
   ]
  },
  {
   "cell_type": "markdown",
   "metadata": {},
   "source": [
    "In general, mutable objects (like a list for example) are not hashable, and so cannot be used as keys in a dictionary."
   ]
  },
  {
   "cell_type": "code",
   "execution_count": 42,
   "metadata": {},
   "outputs": [],
   "source": [
    "l = [1, 2, 3]"
   ]
  },
  {
   "cell_type": "code",
   "execution_count": 43,
   "metadata": {},
   "outputs": [
    {
     "ename": "TypeError",
     "evalue": "unhashable type: 'list'",
     "output_type": "error",
     "traceback": [
      "\u001b[0;31m---------------------------------------------------------------------------\u001b[0m",
      "\u001b[0;31mTypeError\u001b[0m                                 Traceback (most recent call last)",
      "Cell \u001b[0;32mIn[43], line 1\u001b[0m\n\u001b[0;32m----> 1\u001b[0m d \u001b[38;5;241m=\u001b[39m {l: \u001b[38;5;241m100\u001b[39m}\n",
      "\u001b[0;31mTypeError\u001b[0m: unhashable type: 'list'"
     ]
    }
   ],
   "source": [
    "d = {l: 100}"
   ]
  },
  {
   "cell_type": "markdown",
   "metadata": {},
   "source": [
    "If you need to find out whether something is hashable or not, you can use the `hash()` function:"
   ]
  },
  {
   "cell_type": "code",
   "execution_count": 44,
   "metadata": {},
   "outputs": [
    {
     "data": {
      "text/plain": [
       "100"
      ]
     },
     "execution_count": 44,
     "metadata": {},
     "output_type": "execute_result"
    }
   ],
   "source": [
    "hash(100)"
   ]
  },
  {
   "cell_type": "code",
   "execution_count": 45,
   "metadata": {},
   "outputs": [
    {
     "ename": "TypeError",
     "evalue": "unhashable type: 'list'",
     "output_type": "error",
     "traceback": [
      "\u001b[0;31m---------------------------------------------------------------------------\u001b[0m",
      "\u001b[0;31mTypeError\u001b[0m                                 Traceback (most recent call last)",
      "Cell \u001b[0;32mIn[45], line 1\u001b[0m\n\u001b[0;32m----> 1\u001b[0m \u001b[38;5;28;43mhash\u001b[39;49m\u001b[43m(\u001b[49m\u001b[43ml\u001b[49m\u001b[43m)\u001b[49m\n",
      "\u001b[0;31mTypeError\u001b[0m: unhashable type: 'list'"
     ]
    }
   ],
   "source": [
    "hash(l)"
   ]
  },
  {
   "cell_type": "markdown",
   "metadata": {},
   "source": [
    "Tuples are immutable collections, but they may or may not be hashable depending on whether all the contained elements are hashable or not:"
   ]
  },
  {
   "cell_type": "code",
   "execution_count": 46,
   "metadata": {},
   "outputs": [],
   "source": [
    "t = (1, 2, 3, 4)"
   ]
  },
  {
   "cell_type": "code",
   "execution_count": 47,
   "metadata": {},
   "outputs": [
    {
     "data": {
      "text/plain": [
       "590899387183067792"
      ]
     },
     "execution_count": 47,
     "metadata": {},
     "output_type": "execute_result"
    }
   ],
   "source": [
    "hash(t)"
   ]
  },
  {
   "cell_type": "code",
   "execution_count": 48,
   "metadata": {},
   "outputs": [],
   "source": [
    "t = ([1, 2], 3, 4)"
   ]
  },
  {
   "cell_type": "code",
   "execution_count": 49,
   "metadata": {},
   "outputs": [
    {
     "ename": "TypeError",
     "evalue": "unhashable type: 'list'",
     "output_type": "error",
     "traceback": [
      "\u001b[0;31m---------------------------------------------------------------------------\u001b[0m",
      "\u001b[0;31mTypeError\u001b[0m                                 Traceback (most recent call last)",
      "Cell \u001b[0;32mIn[49], line 1\u001b[0m\n\u001b[0;32m----> 1\u001b[0m \u001b[38;5;28;43mhash\u001b[39;49m\u001b[43m(\u001b[49m\u001b[43mt\u001b[49m\u001b[43m)\u001b[49m\n",
      "\u001b[0;31mTypeError\u001b[0m: unhashable type: 'list'"
     ]
    }
   ],
   "source": [
    "hash(t)"
   ]
  },
  {
   "cell_type": "markdown",
   "metadata": {},
   "source": [
    "You'll notice that the tuple was unhashable because it contained a list, which is, itself, unhashable."
   ]
  },
  {
   "cell_type": "markdown",
   "metadata": {},
   "source": [
    "So, we can use tuples as keys sometimes:"
   ]
  },
  {
   "cell_type": "code",
   "execution_count": 50,
   "metadata": {},
   "outputs": [],
   "source": [
    "d = {\n",
    "    (0, 0): \"origin\",\n",
    "    (1, 0): \"unit-x\",\n",
    "    (0, 1): \"unit-y\"\n",
    "}"
   ]
  },
  {
   "cell_type": "code",
   "execution_count": 51,
   "metadata": {},
   "outputs": [
    {
     "data": {
      "text/plain": [
       "'origin'"
      ]
     },
     "execution_count": 51,
     "metadata": {},
     "output_type": "execute_result"
    }
   ],
   "source": [
    "d[(0,0)]"
   ]
  },
  {
   "cell_type": "markdown",
   "metadata": {},
   "source": [
    "We can delete a key (and it's associated value) from a dictionary using the `del` keyword, again just like we did with lists:"
   ]
  },
  {
   "cell_type": "code",
   "execution_count": 56,
   "metadata": {},
   "outputs": [],
   "source": [
    "d = {'a': 1, 'b': 2, 'c': 3}"
   ]
  },
  {
   "cell_type": "code",
   "execution_count": 57,
   "metadata": {},
   "outputs": [],
   "source": [
    "del d['a']"
   ]
  },
  {
   "cell_type": "markdown",
   "metadata": {},
   "source": [
    "You will get exception if you try to lookup or delete a non-existent key:"
   ]
  },
  {
   "cell_type": "code",
   "execution_count": 58,
   "metadata": {},
   "outputs": [
    {
     "ename": "KeyError",
     "evalue": "'x'",
     "output_type": "error",
     "traceback": [
      "\u001b[0;31m---------------------------------------------------------------------------\u001b[0m",
      "\u001b[0;31mKeyError\u001b[0m                                  Traceback (most recent call last)",
      "Cell \u001b[0;32mIn[58], line 1\u001b[0m\n\u001b[0;32m----> 1\u001b[0m \u001b[43md\u001b[49m\u001b[43m[\u001b[49m\u001b[38;5;124;43m'\u001b[39;49m\u001b[38;5;124;43mx\u001b[39;49m\u001b[38;5;124;43m'\u001b[39;49m\u001b[43m]\u001b[49m\n",
      "\u001b[0;31mKeyError\u001b[0m: 'x'"
     ]
    }
   ],
   "source": [
    "d['x']"
   ]
  },
  {
   "cell_type": "code",
   "execution_count": 59,
   "metadata": {},
   "outputs": [
    {
     "ename": "KeyError",
     "evalue": "'x'",
     "output_type": "error",
     "traceback": [
      "\u001b[0;31m---------------------------------------------------------------------------\u001b[0m",
      "\u001b[0;31mKeyError\u001b[0m                                  Traceback (most recent call last)",
      "Cell \u001b[0;32mIn[59], line 1\u001b[0m\n\u001b[0;32m----> 1\u001b[0m \u001b[38;5;28;01mdel\u001b[39;00m d[\u001b[38;5;124m'\u001b[39m\u001b[38;5;124mx\u001b[39m\u001b[38;5;124m'\u001b[39m]\n",
      "\u001b[0;31mKeyError\u001b[0m: 'x'"
     ]
    }
   ],
   "source": [
    "del d['x']"
   ]
  },
  {
   "cell_type": "markdown",
   "metadata": {},
   "source": [
    "Later we'll take a look at a dictionary method that can be used to substitute a default value when we look up a non-existent key."
   ]
  },
  {
   "cell_type": "markdown",
   "metadata": {},
   "source": [
    "Many many data structures in Python use dictionaries."
   ]
  },
  {
   "cell_type": "markdown",
   "metadata": {},
   "source": [
    "For example, all the variables (symbols) we defined in our notebook are actually stored by Python in a dictionary - that's how it is able to quickly access the \"value\" associated with the variable symbol."
   ]
  },
  {
   "cell_type": "code",
   "execution_count": 60,
   "metadata": {},
   "outputs": [
    {
     "data": {
      "text/plain": [
       "{'__name__': '__main__',\n",
       " '__doc__': 'Automatically created module for IPython interactive environment',\n",
       " '__package__': None,\n",
       " '__loader__': None,\n",
       " '__spec__': None,\n",
       " '__builtin__': <module 'builtins' (built-in)>,\n",
       " '__builtins__': <module 'builtins' (built-in)>,\n",
       " '_ih': ['',\n",
       "  \"d = {'a': 1, 'b': 2, 'c': 3}\",\n",
       "  \"d = {'a': 1, 'b': 2, 'c': 3}\",\n",
       "  'd',\n",
       "  'id(d)',\n",
       "  'd',\n",
       "  \"person = {\\n    'first_name': 'Eric',\\n    'last_name': 'Idle',\\n    'year_born': 2016 \\n}\",\n",
       "  \"d[(1, 2)] = 'tuple'\",\n",
       "  \"d = {'a': 1, 'b': 2, 'c': 3}\",\n",
       "  \"d[(1, 2)] = 'tuple'\",\n",
       "  'd',\n",
       "  \"print(hash((1, 2)))\\nprint(hash('python'))\\nprint(hash('python'))\\nprint(hash(12))\\nprint(hash(12))\",\n",
       "  \"print(hash((1, 2)))\\nprint(hash('python'))\\nprint(hash('python'))\\nprint(hash(12))\\nprint(hash(12))\\nprint(hash(3.14))\\nprint(hash(3.14))\",\n",
       "  \"print(hash('python'))\\nprint(hash('python'))\\nprint(hash(12))\\nprint(hash(12))\\nprint(hash(3.14))\\nprint(hash(3.14))\\nprint(hash((1, 2)))\",\n",
       "  'print(hash(\\'python\\'))\\nprint(hash(\\'python\\'))\\nprint(hash(12))\\nprint(hash(12))\\nprint(hash(3.14))\\nprint(hash(3.14))\\nprint(hash((1, 2)))\\nprint(hash((1, [\"1\", \"2\"])))',\n",
       "  'd[(1, 2)]',\n",
       "  'del d[(1, 2)]\\nd',\n",
       "  \"d = {'a': 1, 'b': 2, 'c': 3}\",\n",
       "  \"d[(1, 2)] = 'tuple'\",\n",
       "  'd',\n",
       "  'd[(1, 2)]',\n",
       "  'del d[(1, 2)]\\nd',\n",
       "  'print(hash(\\'python\\'))\\nprint(hash(\\'python\\'))\\nprint(hash(12))\\nprint(hash(12))\\nprint(hash(3.14))\\nprint(hash(3.14))\\nprint(hash((1, 2)))\\n# print(hash((1, [\"1\", \"2\"]))) # TypeError',\n",
       "  \"person = {\\n    'first_name': 'Eric',\\n    'last_name': 'Idle',\\n    'year_born': 2016 \\n}\",\n",
       "  \"person['year_born']\",\n",
       "  \"person['year_born'] = 1943\",\n",
       "  'person',\n",
       "  \"person = {\\n    'first_name': 'Eric',\\n    'last_name': 'Idle',\\n    'year_born': 2016 \\n}\",\n",
       "  'person',\n",
       "  \"person['year_born']\",\n",
       "  \"person['year_born'] = 1943\",\n",
       "  'person',\n",
       "  \"person['month_born'] = 'March'\",\n",
       "  'person',\n",
       "  \"d = {3.14: 'pi', 2: 'even', 'prime': 7}\",\n",
       "  'd',\n",
       "  'd[3.14]',\n",
       "  'd[2]',\n",
       "  \"d['prime']\",\n",
       "  'd[2]',\n",
       "  'd[3.14]',\n",
       "  \"d['prime']\",\n",
       "  'l = [1, 2, 3]',\n",
       "  'd = {l: 100}',\n",
       "  'hash(100)',\n",
       "  'hash(l)',\n",
       "  't = (1, 2, 3, 4)',\n",
       "  'hash(t)',\n",
       "  't = ([1, 2], 3, 4)',\n",
       "  'hash(t)',\n",
       "  'd = {\\n    (0, 0): \"origin\",\\n    (1, 0): \"unit-x\",\\n    (0, 1): \"unit-y\"\\n}',\n",
       "  'd[(0,0)]',\n",
       "  \"d = {'a': 1, 'b': 2, 'c': 3}\",\n",
       "  \"d = {'a': 1, 'b': 2, 'c': 3}\",\n",
       "  \"del d['a']\",\n",
       "  \"d['x']\",\n",
       "  \"d = {'a': 1, 'b': 2, 'c': 3}\",\n",
       "  \"del d['a']\",\n",
       "  \"d['x']\",\n",
       "  \"del d['x']\",\n",
       "  'globals()'],\n",
       " '_oh': {3: {'a': 1, 'b': 2, 'c': 3, (1, 2): 'tuple'},\n",
       "  4: 4386503680,\n",
       "  5: {'a': 1, 'b': 2, 'c': 3, (1, 2): 'tuple'},\n",
       "  10: {'a': 1, 'b': 2, 'c': 3},\n",
       "  15: 'tuple',\n",
       "  16: {'a': 1, 'b': 2, 'c': 3},\n",
       "  19: {'a': 1, 'b': 2, 'c': 3},\n",
       "  20: 'tuple',\n",
       "  21: {'a': 1, 'b': 2, 'c': 3},\n",
       "  24: 2016,\n",
       "  26: {'first_name': 'Eric', 'last_name': 'Idle', 'year_born': 1943},\n",
       "  28: {'first_name': 'Eric',\n",
       "   'last_name': 'Idle',\n",
       "   'year_born': 1943,\n",
       "   'month_born': 'March'},\n",
       "  29: 2016,\n",
       "  31: {'first_name': 'Eric',\n",
       "   'last_name': 'Idle',\n",
       "   'year_born': 1943,\n",
       "   'month_born': 'March'},\n",
       "  33: {'first_name': 'Eric',\n",
       "   'last_name': 'Idle',\n",
       "   'year_born': 1943,\n",
       "   'month_born': 'March'},\n",
       "  35: {3.14: 'pi', 2: 'even', 'prime': 7},\n",
       "  36: 'pi',\n",
       "  37: 'even',\n",
       "  38: 7,\n",
       "  39: 'even',\n",
       "  40: 'pi',\n",
       "  41: 7,\n",
       "  44: 100,\n",
       "  47: 590899387183067792,\n",
       "  51: 'origin'},\n",
       " '_dh': [PosixPath('/Users/eacardenase/Documents/Learning/Python/python_fundamentals/08 - Dictionaries/02 - Associative Arrays and Dictionaries')],\n",
       " 'In': ['',\n",
       "  \"d = {'a': 1, 'b': 2, 'c': 3}\",\n",
       "  \"d = {'a': 1, 'b': 2, 'c': 3}\",\n",
       "  'd',\n",
       "  'id(d)',\n",
       "  'd',\n",
       "  \"person = {\\n    'first_name': 'Eric',\\n    'last_name': 'Idle',\\n    'year_born': 2016 \\n}\",\n",
       "  \"d[(1, 2)] = 'tuple'\",\n",
       "  \"d = {'a': 1, 'b': 2, 'c': 3}\",\n",
       "  \"d[(1, 2)] = 'tuple'\",\n",
       "  'd',\n",
       "  \"print(hash((1, 2)))\\nprint(hash('python'))\\nprint(hash('python'))\\nprint(hash(12))\\nprint(hash(12))\",\n",
       "  \"print(hash((1, 2)))\\nprint(hash('python'))\\nprint(hash('python'))\\nprint(hash(12))\\nprint(hash(12))\\nprint(hash(3.14))\\nprint(hash(3.14))\",\n",
       "  \"print(hash('python'))\\nprint(hash('python'))\\nprint(hash(12))\\nprint(hash(12))\\nprint(hash(3.14))\\nprint(hash(3.14))\\nprint(hash((1, 2)))\",\n",
       "  'print(hash(\\'python\\'))\\nprint(hash(\\'python\\'))\\nprint(hash(12))\\nprint(hash(12))\\nprint(hash(3.14))\\nprint(hash(3.14))\\nprint(hash((1, 2)))\\nprint(hash((1, [\"1\", \"2\"])))',\n",
       "  'd[(1, 2)]',\n",
       "  'del d[(1, 2)]\\nd',\n",
       "  \"d = {'a': 1, 'b': 2, 'c': 3}\",\n",
       "  \"d[(1, 2)] = 'tuple'\",\n",
       "  'd',\n",
       "  'd[(1, 2)]',\n",
       "  'del d[(1, 2)]\\nd',\n",
       "  'print(hash(\\'python\\'))\\nprint(hash(\\'python\\'))\\nprint(hash(12))\\nprint(hash(12))\\nprint(hash(3.14))\\nprint(hash(3.14))\\nprint(hash((1, 2)))\\n# print(hash((1, [\"1\", \"2\"]))) # TypeError',\n",
       "  \"person = {\\n    'first_name': 'Eric',\\n    'last_name': 'Idle',\\n    'year_born': 2016 \\n}\",\n",
       "  \"person['year_born']\",\n",
       "  \"person['year_born'] = 1943\",\n",
       "  'person',\n",
       "  \"person = {\\n    'first_name': 'Eric',\\n    'last_name': 'Idle',\\n    'year_born': 2016 \\n}\",\n",
       "  'person',\n",
       "  \"person['year_born']\",\n",
       "  \"person['year_born'] = 1943\",\n",
       "  'person',\n",
       "  \"person['month_born'] = 'March'\",\n",
       "  'person',\n",
       "  \"d = {3.14: 'pi', 2: 'even', 'prime': 7}\",\n",
       "  'd',\n",
       "  'd[3.14]',\n",
       "  'd[2]',\n",
       "  \"d['prime']\",\n",
       "  'd[2]',\n",
       "  'd[3.14]',\n",
       "  \"d['prime']\",\n",
       "  'l = [1, 2, 3]',\n",
       "  'd = {l: 100}',\n",
       "  'hash(100)',\n",
       "  'hash(l)',\n",
       "  't = (1, 2, 3, 4)',\n",
       "  'hash(t)',\n",
       "  't = ([1, 2], 3, 4)',\n",
       "  'hash(t)',\n",
       "  'd = {\\n    (0, 0): \"origin\",\\n    (1, 0): \"unit-x\",\\n    (0, 1): \"unit-y\"\\n}',\n",
       "  'd[(0,0)]',\n",
       "  \"d = {'a': 1, 'b': 2, 'c': 3}\",\n",
       "  \"d = {'a': 1, 'b': 2, 'c': 3}\",\n",
       "  \"del d['a']\",\n",
       "  \"d['x']\",\n",
       "  \"d = {'a': 1, 'b': 2, 'c': 3}\",\n",
       "  \"del d['a']\",\n",
       "  \"d['x']\",\n",
       "  \"del d['x']\",\n",
       "  'globals()'],\n",
       " 'Out': {3: {'a': 1, 'b': 2, 'c': 3, (1, 2): 'tuple'},\n",
       "  4: 4386503680,\n",
       "  5: {'a': 1, 'b': 2, 'c': 3, (1, 2): 'tuple'},\n",
       "  10: {'a': 1, 'b': 2, 'c': 3},\n",
       "  15: 'tuple',\n",
       "  16: {'a': 1, 'b': 2, 'c': 3},\n",
       "  19: {'a': 1, 'b': 2, 'c': 3},\n",
       "  20: 'tuple',\n",
       "  21: {'a': 1, 'b': 2, 'c': 3},\n",
       "  24: 2016,\n",
       "  26: {'first_name': 'Eric', 'last_name': 'Idle', 'year_born': 1943},\n",
       "  28: {'first_name': 'Eric',\n",
       "   'last_name': 'Idle',\n",
       "   'year_born': 1943,\n",
       "   'month_born': 'March'},\n",
       "  29: 2016,\n",
       "  31: {'first_name': 'Eric',\n",
       "   'last_name': 'Idle',\n",
       "   'year_born': 1943,\n",
       "   'month_born': 'March'},\n",
       "  33: {'first_name': 'Eric',\n",
       "   'last_name': 'Idle',\n",
       "   'year_born': 1943,\n",
       "   'month_born': 'March'},\n",
       "  35: {3.14: 'pi', 2: 'even', 'prime': 7},\n",
       "  36: 'pi',\n",
       "  37: 'even',\n",
       "  38: 7,\n",
       "  39: 'even',\n",
       "  40: 'pi',\n",
       "  41: 7,\n",
       "  44: 100,\n",
       "  47: 590899387183067792,\n",
       "  51: 'origin'},\n",
       " 'get_ipython': <bound method InteractiveShell.get_ipython of <ipykernel.zmqshell.ZMQInteractiveShell object at 0x1052da850>>,\n",
       " 'exit': <IPython.core.autocall.ZMQExitAutocall at 0x1056e4070>,\n",
       " 'quit': <IPython.core.autocall.ZMQExitAutocall at 0x1056e4070>,\n",
       " 'open': <function io.open(file, mode='r', buffering=-1, encoding=None, errors=None, newline=None, closefd=True, opener=None)>,\n",
       " '_': 'origin',\n",
       " '__': 590899387183067792,\n",
       " '___': 100,\n",
       " '__vsc_ipynb_file__': '/Users/eacardenase/Documents/Learning/Python/python_fundamentals/08 - Dictionaries/02 - Associative Arrays and Dictionaries/Associative Arrays and Dictionaries.ipynb',\n",
       " '_i': \"del d['x']\",\n",
       " '_ii': \"d['x']\",\n",
       " '_iii': \"del d['a']\",\n",
       " '_i1': \"d = {'a': 1, 'b': 2, 'c': 3}\",\n",
       " 'd': {'b': 2, 'c': 3},\n",
       " '_i2': \"d = {'a': 1, 'b': 2, 'c': 3}\",\n",
       " '_i3': 'd',\n",
       " '_3': {'a': 1, 'b': 2, 'c': 3, (1, 2): 'tuple'},\n",
       " '_i4': 'id(d)',\n",
       " '_4': 4386503680,\n",
       " '_i5': 'd',\n",
       " '_5': {'a': 1, 'b': 2, 'c': 3, (1, 2): 'tuple'},\n",
       " '_i6': \"person = {\\n    'first_name': 'Eric',\\n    'last_name': 'Idle',\\n    'year_born': 2016 \\n}\",\n",
       " 'person': {'first_name': 'Eric',\n",
       "  'last_name': 'Idle',\n",
       "  'year_born': 1943,\n",
       "  'month_born': 'March'},\n",
       " '_i7': \"d[(1, 2)] = 'tuple'\",\n",
       " '_i8': \"d = {'a': 1, 'b': 2, 'c': 3}\",\n",
       " '_i9': \"d[(1, 2)] = 'tuple'\",\n",
       " '_i10': 'd',\n",
       " '_10': {'a': 1, 'b': 2, 'c': 3},\n",
       " '_i11': \"print(hash((1, 2)))\\nprint(hash('python'))\\nprint(hash('python'))\\nprint(hash(12))\\nprint(hash(12))\",\n",
       " '_i12': \"print(hash((1, 2)))\\nprint(hash('python'))\\nprint(hash('python'))\\nprint(hash(12))\\nprint(hash(12))\\nprint(hash(3.14))\\nprint(hash(3.14))\",\n",
       " '_i13': \"print(hash('python'))\\nprint(hash('python'))\\nprint(hash(12))\\nprint(hash(12))\\nprint(hash(3.14))\\nprint(hash(3.14))\\nprint(hash((1, 2)))\",\n",
       " '_i14': 'print(hash(\\'python\\'))\\nprint(hash(\\'python\\'))\\nprint(hash(12))\\nprint(hash(12))\\nprint(hash(3.14))\\nprint(hash(3.14))\\nprint(hash((1, 2)))\\nprint(hash((1, [\"1\", \"2\"])))',\n",
       " '_i15': 'd[(1, 2)]',\n",
       " '_15': 'tuple',\n",
       " '_i16': 'del d[(1, 2)]\\nd',\n",
       " '_16': {'a': 1, 'b': 2, 'c': 3},\n",
       " '_i17': \"d = {'a': 1, 'b': 2, 'c': 3}\",\n",
       " '_i18': \"d[(1, 2)] = 'tuple'\",\n",
       " '_i19': 'd',\n",
       " '_19': {'a': 1, 'b': 2, 'c': 3},\n",
       " '_i20': 'd[(1, 2)]',\n",
       " '_20': 'tuple',\n",
       " '_i21': 'del d[(1, 2)]\\nd',\n",
       " '_21': {'a': 1, 'b': 2, 'c': 3},\n",
       " '_i22': 'print(hash(\\'python\\'))\\nprint(hash(\\'python\\'))\\nprint(hash(12))\\nprint(hash(12))\\nprint(hash(3.14))\\nprint(hash(3.14))\\nprint(hash((1, 2)))\\n# print(hash((1, [\"1\", \"2\"]))) # TypeError',\n",
       " '_i23': \"person = {\\n    'first_name': 'Eric',\\n    'last_name': 'Idle',\\n    'year_born': 2016 \\n}\",\n",
       " '_i24': \"person['year_born']\",\n",
       " '_24': 2016,\n",
       " '_i25': \"person['year_born'] = 1943\",\n",
       " '_i26': 'person',\n",
       " '_26': {'first_name': 'Eric', 'last_name': 'Idle', 'year_born': 1943},\n",
       " '_i27': \"person = {\\n    'first_name': 'Eric',\\n    'last_name': 'Idle',\\n    'year_born': 2016 \\n}\",\n",
       " '_i28': 'person',\n",
       " '_28': {'first_name': 'Eric',\n",
       "  'last_name': 'Idle',\n",
       "  'year_born': 1943,\n",
       "  'month_born': 'March'},\n",
       " '_i29': \"person['year_born']\",\n",
       " '_29': 2016,\n",
       " '_i30': \"person['year_born'] = 1943\",\n",
       " '_i31': 'person',\n",
       " '_31': {'first_name': 'Eric',\n",
       "  'last_name': 'Idle',\n",
       "  'year_born': 1943,\n",
       "  'month_born': 'March'},\n",
       " '_i32': \"person['month_born'] = 'March'\",\n",
       " '_i33': 'person',\n",
       " '_33': {'first_name': 'Eric',\n",
       "  'last_name': 'Idle',\n",
       "  'year_born': 1943,\n",
       "  'month_born': 'March'},\n",
       " '_i34': \"d = {3.14: 'pi', 2: 'even', 'prime': 7}\",\n",
       " '_i35': 'd',\n",
       " '_35': {3.14: 'pi', 2: 'even', 'prime': 7},\n",
       " '_i36': 'd[3.14]',\n",
       " '_36': 'pi',\n",
       " '_i37': 'd[2]',\n",
       " '_37': 'even',\n",
       " '_i38': \"d['prime']\",\n",
       " '_38': 7,\n",
       " '_i39': 'd[2]',\n",
       " '_39': 'even',\n",
       " '_i40': 'd[3.14]',\n",
       " '_40': 'pi',\n",
       " '_i41': \"d['prime']\",\n",
       " '_41': 7,\n",
       " '_i42': 'l = [1, 2, 3]',\n",
       " 'l': [1, 2, 3],\n",
       " '_i43': 'd = {l: 100}',\n",
       " '_i44': 'hash(100)',\n",
       " '_44': 100,\n",
       " '_i45': 'hash(l)',\n",
       " '_i46': 't = (1, 2, 3, 4)',\n",
       " 't': ([1, 2], 3, 4),\n",
       " '_i47': 'hash(t)',\n",
       " '_47': 590899387183067792,\n",
       " '_i48': 't = ([1, 2], 3, 4)',\n",
       " '_i49': 'hash(t)',\n",
       " '_i50': 'd = {\\n    (0, 0): \"origin\",\\n    (1, 0): \"unit-x\",\\n    (0, 1): \"unit-y\"\\n}',\n",
       " '_i51': 'd[(0,0)]',\n",
       " '_51': 'origin',\n",
       " '_i52': \"d = {'a': 1, 'b': 2, 'c': 3}\",\n",
       " '_i53': \"d = {'a': 1, 'b': 2, 'c': 3}\",\n",
       " '_i54': \"del d['a']\",\n",
       " '_i55': \"d['x']\",\n",
       " '_i56': \"d = {'a': 1, 'b': 2, 'c': 3}\",\n",
       " '_i57': \"del d['a']\",\n",
       " '_i58': \"d['x']\",\n",
       " '_i59': \"del d['x']\",\n",
       " '_i60': 'globals()'}"
      ]
     },
     "execution_count": 60,
     "metadata": {},
     "output_type": "execute_result"
    }
   ],
   "source": [
    "globals()"
   ]
  },
  {
   "cell_type": "markdown",
   "metadata": {},
   "source": [
    "For example, when we access the `person` variable:"
   ]
  },
  {
   "cell_type": "code",
   "execution_count": 61,
   "metadata": {},
   "outputs": [
    {
     "data": {
      "text/plain": [
       "{'first_name': 'Eric',\n",
       " 'last_name': 'Idle',\n",
       " 'year_born': 1943,\n",
       " 'month_born': 'March'}"
      ]
     },
     "execution_count": 61,
     "metadata": {},
     "output_type": "execute_result"
    }
   ],
   "source": [
    "person"
   ]
  },
  {
   "cell_type": "markdown",
   "metadata": {},
   "source": [
    "Python actually retrieved the object from the `globals` dictionary:"
   ]
  },
  {
   "cell_type": "code",
   "execution_count": 62,
   "metadata": {},
   "outputs": [
    {
     "data": {
      "text/plain": [
       "{'first_name': 'Eric',\n",
       " 'last_name': 'Idle',\n",
       " 'year_born': 1943,\n",
       " 'month_born': 'March'}"
      ]
     },
     "execution_count": 62,
     "metadata": {},
     "output_type": "execute_result"
    }
   ],
   "source": [
    "globals()['person']"
   ]
  },
  {
   "cell_type": "code",
   "execution_count": 63,
   "metadata": {},
   "outputs": [
    {
     "data": {
      "text/plain": [
       "True"
      ]
     },
     "execution_count": 63,
     "metadata": {},
     "output_type": "execute_result"
    }
   ],
   "source": [
    "person is globals()['person']"
   ]
  },
  {
   "cell_type": "markdown",
   "metadata": {},
   "source": [
    "See! Same object.\n",
    "\n",
    "In Python, dictionaries are everywhere and is probably one of the most important ubiquitous structures in Python."
   ]
  }
 ],
 "metadata": {
  "kernelspec": {
   "display_name": "env",
   "language": "python",
   "name": "python3"
  },
  "language_info": {
   "codemirror_mode": {
    "name": "ipython",
    "version": 3
   },
   "file_extension": ".py",
   "mimetype": "text/x-python",
   "name": "python",
   "nbconvert_exporter": "python",
   "pygments_lexer": "ipython3",
   "version": "3.9.6"
  }
 },
 "nbformat": 4,
 "nbformat_minor": 4
}
