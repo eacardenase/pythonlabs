{
 "cells": [
  {
   "cell_type": "markdown",
   "metadata": {},
   "source": [
    "### Custom Functions"
   ]
  },
  {
   "cell_type": "markdown",
   "metadata": {},
   "source": [
    "We can create custom functions using the `def` keyword:"
   ]
  },
  {
   "cell_type": "code",
   "execution_count": 20,
   "metadata": {},
   "outputs": [],
   "source": [
    "def say_hello():\n",
    "    return 'hello!'"
   ]
  },
  {
   "cell_type": "markdown",
   "metadata": {},
   "source": [
    "We can then call this function using it's name (a symbol that points to the function object that was created):"
   ]
  },
  {
   "cell_type": "code",
   "execution_count": 21,
   "metadata": {},
   "outputs": [
    {
     "data": {
      "text/plain": [
       "'hello!'"
      ]
     },
     "execution_count": 21,
     "metadata": {},
     "output_type": "execute_result"
    }
   ],
   "source": [
    "say_hello()"
   ]
  },
  {
   "cell_type": "code",
   "execution_count": 22,
   "metadata": {},
   "outputs": [
    {
     "data": {
      "text/plain": [
       "'hello!'"
      ]
     },
     "execution_count": 22,
     "metadata": {},
     "output_type": "execute_result"
    }
   ],
   "source": [
    "say_hello()"
   ]
  },
  {
   "cell_type": "code",
   "execution_count": 25,
   "metadata": {},
   "outputs": [
    {
     "data": {
      "text/plain": [
       "<function __main__.say_hello()>"
      ]
     },
     "execution_count": 25,
     "metadata": {},
     "output_type": "execute_result"
    }
   ],
   "source": [
    "say_hello"
   ]
  },
  {
   "cell_type": "code",
   "execution_count": 19,
   "metadata": {},
   "outputs": [
    {
     "data": {
      "text/plain": [
       "[[10, 10, 10], [10, 10, 10], [10, 10, 10]]"
      ]
     },
     "execution_count": 19,
     "metadata": {},
     "output_type": "execute_result"
    }
   ],
   "source": [
    "def generate_matrix(m, n, default_value):\n",
    "    return [[default_value for i in range(n)] for j in range(m)]\n",
    "\n",
    "generate_matrix(3, 3, 10)"
   ]
  },
  {
   "cell_type": "markdown",
   "metadata": {},
   "source": [
    "Note that `say_hello` is basically like a variable name - it is a variable (a symbol) that references some function object."
   ]
  },
  {
   "cell_type": "markdown",
   "metadata": {},
   "source": [
    "We can assign another symbol to the same function object:"
   ]
  },
  {
   "cell_type": "code",
   "execution_count": 26,
   "metadata": {},
   "outputs": [],
   "source": [
    "alias = say_hello"
   ]
  },
  {
   "cell_type": "markdown",
   "metadata": {},
   "source": [
    "Now both `alias` and `say_hello` are referencing the **same** function object:"
   ]
  },
  {
   "cell_type": "code",
   "execution_count": 27,
   "metadata": {},
   "outputs": [
    {
     "data": {
      "text/plain": [
       "(4422629264, 4422629264)"
      ]
     },
     "execution_count": 27,
     "metadata": {},
     "output_type": "execute_result"
    }
   ],
   "source": [
    "id(alias), id(say_hello)"
   ]
  },
  {
   "cell_type": "code",
   "execution_count": 28,
   "metadata": {},
   "outputs": [
    {
     "data": {
      "text/plain": [
       "True"
      ]
     },
     "execution_count": 28,
     "metadata": {},
     "output_type": "execute_result"
    }
   ],
   "source": [
    "alias is say_hello"
   ]
  },
  {
   "cell_type": "markdown",
   "metadata": {},
   "source": [
    "And now we can call this function using either name:"
   ]
  },
  {
   "cell_type": "code",
   "execution_count": 29,
   "metadata": {},
   "outputs": [
    {
     "data": {
      "text/plain": [
       "'hello!'"
      ]
     },
     "execution_count": 29,
     "metadata": {},
     "output_type": "execute_result"
    }
   ],
   "source": [
    "alias()"
   ]
  },
  {
   "cell_type": "markdown",
   "metadata": {},
   "source": [
    "The takeaway here is that when write:\n",
    "\n",
    "```\n",
    "def func_name():\n",
    "    # function body here\n",
    "```\n",
    "\n",
    "we are basically creating a function object with the code in the body, and Python then assigns that object to a symbol `func_name` in our code."
   ]
  },
  {
   "cell_type": "markdown",
   "metadata": {},
   "source": [
    "Now, there's a bit more going on, when we create a function in this way, the function object that was created has some extra data (beyond the code in the function body) attached to it:"
   ]
  },
  {
   "cell_type": "code",
   "execution_count": 30,
   "metadata": {},
   "outputs": [
    {
     "data": {
      "text/plain": [
       "'say_hello'"
      ]
     },
     "execution_count": 30,
     "metadata": {},
     "output_type": "execute_result"
    }
   ],
   "source": [
    "say_hello.__name__"
   ]
  },
  {
   "cell_type": "code",
   "execution_count": 31,
   "metadata": {},
   "outputs": [
    {
     "data": {
      "text/plain": [
       "'say_hello'"
      ]
     },
     "execution_count": 31,
     "metadata": {},
     "output_type": "execute_result"
    }
   ],
   "source": [
    "alias.__name__"
   ]
  },
  {
   "cell_type": "markdown",
   "metadata": {},
   "source": [
    "Functions often require some input values, and we can accomplish this by simply listing the names we want to assign to those positional arguments in the function definition (the **parameters** of the function)."
   ]
  },
  {
   "cell_type": "code",
   "execution_count": 33,
   "metadata": {},
   "outputs": [],
   "source": [
    "def add(a, b, c):\n",
    "    print(f'a = {a}')\n",
    "    print(f'a = {b}')\n",
    "    print(f'c = {c}')\n",
    "    return a + b + c"
   ]
  },
  {
   "cell_type": "markdown",
   "metadata": {},
   "source": [
    "We can then call `add` with three arguments, and those values will be available in the function body using the names we specified for the parameters. The values are passed positionally - so the first argument goes into the first parameter, etc."
   ]
  },
  {
   "cell_type": "code",
   "execution_count": 34,
   "metadata": {},
   "outputs": [
    {
     "name": "stdout",
     "output_type": "stream",
     "text": [
      "a = 1\n",
      "a = 2\n",
      "c = 3\n",
      "result = 6\n"
     ]
    }
   ],
   "source": [
    "result = add(1, 2, 3)\n",
    "print(f'result = {result}')"
   ]
  },
  {
   "cell_type": "code",
   "execution_count": 35,
   "metadata": {},
   "outputs": [
    {
     "name": "stdout",
     "output_type": "stream",
     "text": [
      "a = 3\n",
      "a = 2\n",
      "c = 1\n",
      "result = 6\n"
     ]
    }
   ],
   "source": [
    "result = add(3, 2, 1)\n",
    "print(f'result = {result}')"
   ]
  },
  {
   "cell_type": "markdown",
   "metadata": {},
   "source": [
    "As we noted in the lecture, each time a function is **called** a new namespace is created that holds all the variables for that one specific \"run\" of the function."
   ]
  },
  {
   "cell_type": "markdown",
   "metadata": {},
   "source": [
    "Those variables are stored in a dictionary, much like a module stores its variables in a dictionary."
   ]
  },
  {
   "cell_type": "markdown",
   "metadata": {},
   "source": [
    "We can see the module variables by looking at the **globals** dictionary:"
   ]
  },
  {
   "cell_type": "code",
   "execution_count": 38,
   "metadata": {},
   "outputs": [],
   "source": [
    "a = 1\n",
    "b = 2"
   ]
  },
  {
   "cell_type": "code",
   "execution_count": 39,
   "metadata": {},
   "outputs": [
    {
     "data": {
      "text/plain": [
       "{'__name__': '__main__',\n",
       " '__doc__': 'Automatically created module for IPython interactive environment',\n",
       " '__package__': None,\n",
       " '__loader__': None,\n",
       " '__spec__': None,\n",
       " '__builtin__': <module 'builtins' (built-in)>,\n",
       " '__builtins__': <module 'builtins' (built-in)>,\n",
       " '_ih': ['',\n",
       "  \"def say_hello():\\n    return 'hello!'\",\n",
       "  'say_hello()',\n",
       "  'say_hello()',\n",
       "  'def generate_matrix(m, n, default_value):\\n    return [[[col[row]] for col in range(n)] for row in range(m)]',\n",
       "  'generate_matrix(2, 3, 0)',\n",
       "  'def generate_matrix(m, n, default_value):\\n    # return [[[col[row]] for col in range(n)] for row in range(m)]\\n    return [default_value for row in range(m)]',\n",
       "  'generate_matrix(2, 3, 0)',\n",
       "  'def generate_matrix(m, n, default_value):\\n    # return [[[col[row]] for col in range(n)] for row in range(m)]\\n    return [row for row in range(m)]',\n",
       "  'generate_matrix(2, 3, 0)',\n",
       "  'def generate_matrix(m, n, default_value):\\n    # return [[[col[row]] for col in range(n)] for row in range(m)]\\n    return [row for row in range(m)]\\n\\ngenerate_matrix(2, 3, 0)',\n",
       "  'def generate_matrix(m, n, default_value):\\n    # return [[[col[row]] for col in range(n)] for row in range(m)]\\n    return [row for row in range(m)]\\n\\ngenerate_matrix(2, 3, 0)',\n",
       "  'def generate_matrix(m, n, default_value):\\n    # return [[[col[row]] for col in range(n)] for row in range(m)]\\n    return [[row for col in range(n)] for row in range(m)]\\n\\ngenerate_matrix(2, 3, 0)',\n",
       "  'def generate_matrix(m, n, default_value):\\n    # return [[[col[row]] for col in range(n)] for row in range(m)]\\n    return [[default_value for col in range(n)] for row in range(m)]\\n\\ngenerate_matrix(2, 3, 0)',\n",
       "  'def generate_matrix(m, n, default_value):\\n    # return [[[col[row]] for col in range(n)] for row in range(m)]\\n    return [[default_value for col in range(n)] for row in range(m)]\\n\\ngenerate_matrix(2, 3, 10)',\n",
       "  'def generate_matrix(m, n, default_value):\\n    # return [[[col[row]] for col in range(n)] for row in range(m)]\\n    return [[default_value for _ in range(n)] for _ in range(m)]\\n\\ngenerate_matrix(2, 3, 10)',\n",
       "  'def generate_matrix(m, n, default_value):\\n    # return [[[col[row]] for col in range(n)] for row in range(m)]\\n    return [[default_value for _ in range(n)] for _ in range(m)]\\n\\ngenerate_matrix(3, 3, 10)',\n",
       "  'def generate_matrix(m, n, default_value):\\n    return [[default_value for _ in range(n)] for _ in range(m)]\\n\\ngenerate_matrix(3, 3, 10)',\n",
       "  'def generate_matrix(m, n, default_value):\\n    return [[default_value for col in range(n)] for row in range(m)]\\n\\ngenerate_matrix(3, 3, 10)',\n",
       "  'def generate_matrix(m, n, default_value):\\n    return [[default_value for i in range(n)] for j in range(m)]\\n\\ngenerate_matrix(3, 3, 10)',\n",
       "  \"def say_hello():\\n    return 'hello!'\",\n",
       "  'say_hello()',\n",
       "  'say_hello()',\n",
       "  'say_hello',\n",
       "  'type(say_hello)',\n",
       "  'say_hello',\n",
       "  'alias = say_hello',\n",
       "  'id(alias), id(say_hello)',\n",
       "  'alias is say_hello',\n",
       "  'alias()',\n",
       "  'say_hello.__name__',\n",
       "  'alias.__name__',\n",
       "  \"result = add(1, 2, 3)\\nprint(f'result = {result}')\",\n",
       "  \"def add(a, b, c):\\n    print(f'a = {a}')\\n    print(f'a = {b}')\\n    print(f'c = {c}')\\n    return a + b + c\",\n",
       "  \"result = add(1, 2, 3)\\nprint(f'result = {result}')\",\n",
       "  \"result = add(3, 2, 1)\\nprint(f'result = {result}')\",\n",
       "  'result = add(3, 2)\\nprint(f\"result = {result}\")',\n",
       "  'result = add(3, 2, 1, 10)\\nprint(f\"result = {result}\")',\n",
       "  'a = 1\\nb = 2',\n",
       "  'globals()'],\n",
       " '_oh': {2: 'hello!',\n",
       "  3: 'hello!',\n",
       "  7: [0, 0],\n",
       "  9: [0, 1],\n",
       "  10: [0, 1],\n",
       "  11: [0, 1],\n",
       "  12: [[0, 0, 0], [1, 1, 1]],\n",
       "  13: [[0, 0, 0], [0, 0, 0]],\n",
       "  14: [[10, 10, 10], [10, 10, 10]],\n",
       "  15: [[10, 10, 10], [10, 10, 10]],\n",
       "  16: [[10, 10, 10], [10, 10, 10], [10, 10, 10]],\n",
       "  17: [[10, 10, 10], [10, 10, 10], [10, 10, 10]],\n",
       "  18: [[10, 10, 10], [10, 10, 10], [10, 10, 10]],\n",
       "  19: [[10, 10, 10], [10, 10, 10], [10, 10, 10]],\n",
       "  21: 'hello!',\n",
       "  22: 'hello!',\n",
       "  23: <function __main__.say_hello()>,\n",
       "  24: function,\n",
       "  25: <function __main__.say_hello()>,\n",
       "  27: (4422629264, 4422629264),\n",
       "  28: True,\n",
       "  29: 'hello!',\n",
       "  30: 'say_hello',\n",
       "  31: 'say_hello'},\n",
       " '_dh': [PosixPath('/Users/eacardenase/Documents/Learning/Python/python_fundamentals/13 - Functions/02 - Custom Functions')],\n",
       " 'In': ['',\n",
       "  \"def say_hello():\\n    return 'hello!'\",\n",
       "  'say_hello()',\n",
       "  'say_hello()',\n",
       "  'def generate_matrix(m, n, default_value):\\n    return [[[col[row]] for col in range(n)] for row in range(m)]',\n",
       "  'generate_matrix(2, 3, 0)',\n",
       "  'def generate_matrix(m, n, default_value):\\n    # return [[[col[row]] for col in range(n)] for row in range(m)]\\n    return [default_value for row in range(m)]',\n",
       "  'generate_matrix(2, 3, 0)',\n",
       "  'def generate_matrix(m, n, default_value):\\n    # return [[[col[row]] for col in range(n)] for row in range(m)]\\n    return [row for row in range(m)]',\n",
       "  'generate_matrix(2, 3, 0)',\n",
       "  'def generate_matrix(m, n, default_value):\\n    # return [[[col[row]] for col in range(n)] for row in range(m)]\\n    return [row for row in range(m)]\\n\\ngenerate_matrix(2, 3, 0)',\n",
       "  'def generate_matrix(m, n, default_value):\\n    # return [[[col[row]] for col in range(n)] for row in range(m)]\\n    return [row for row in range(m)]\\n\\ngenerate_matrix(2, 3, 0)',\n",
       "  'def generate_matrix(m, n, default_value):\\n    # return [[[col[row]] for col in range(n)] for row in range(m)]\\n    return [[row for col in range(n)] for row in range(m)]\\n\\ngenerate_matrix(2, 3, 0)',\n",
       "  'def generate_matrix(m, n, default_value):\\n    # return [[[col[row]] for col in range(n)] for row in range(m)]\\n    return [[default_value for col in range(n)] for row in range(m)]\\n\\ngenerate_matrix(2, 3, 0)',\n",
       "  'def generate_matrix(m, n, default_value):\\n    # return [[[col[row]] for col in range(n)] for row in range(m)]\\n    return [[default_value for col in range(n)] for row in range(m)]\\n\\ngenerate_matrix(2, 3, 10)',\n",
       "  'def generate_matrix(m, n, default_value):\\n    # return [[[col[row]] for col in range(n)] for row in range(m)]\\n    return [[default_value for _ in range(n)] for _ in range(m)]\\n\\ngenerate_matrix(2, 3, 10)',\n",
       "  'def generate_matrix(m, n, default_value):\\n    # return [[[col[row]] for col in range(n)] for row in range(m)]\\n    return [[default_value for _ in range(n)] for _ in range(m)]\\n\\ngenerate_matrix(3, 3, 10)',\n",
       "  'def generate_matrix(m, n, default_value):\\n    return [[default_value for _ in range(n)] for _ in range(m)]\\n\\ngenerate_matrix(3, 3, 10)',\n",
       "  'def generate_matrix(m, n, default_value):\\n    return [[default_value for col in range(n)] for row in range(m)]\\n\\ngenerate_matrix(3, 3, 10)',\n",
       "  'def generate_matrix(m, n, default_value):\\n    return [[default_value for i in range(n)] for j in range(m)]\\n\\ngenerate_matrix(3, 3, 10)',\n",
       "  \"def say_hello():\\n    return 'hello!'\",\n",
       "  'say_hello()',\n",
       "  'say_hello()',\n",
       "  'say_hello',\n",
       "  'type(say_hello)',\n",
       "  'say_hello',\n",
       "  'alias = say_hello',\n",
       "  'id(alias), id(say_hello)',\n",
       "  'alias is say_hello',\n",
       "  'alias()',\n",
       "  'say_hello.__name__',\n",
       "  'alias.__name__',\n",
       "  \"result = add(1, 2, 3)\\nprint(f'result = {result}')\",\n",
       "  \"def add(a, b, c):\\n    print(f'a = {a}')\\n    print(f'a = {b}')\\n    print(f'c = {c}')\\n    return a + b + c\",\n",
       "  \"result = add(1, 2, 3)\\nprint(f'result = {result}')\",\n",
       "  \"result = add(3, 2, 1)\\nprint(f'result = {result}')\",\n",
       "  'result = add(3, 2)\\nprint(f\"result = {result}\")',\n",
       "  'result = add(3, 2, 1, 10)\\nprint(f\"result = {result}\")',\n",
       "  'a = 1\\nb = 2',\n",
       "  'globals()'],\n",
       " 'Out': {2: 'hello!',\n",
       "  3: 'hello!',\n",
       "  7: [0, 0],\n",
       "  9: [0, 1],\n",
       "  10: [0, 1],\n",
       "  11: [0, 1],\n",
       "  12: [[0, 0, 0], [1, 1, 1]],\n",
       "  13: [[0, 0, 0], [0, 0, 0]],\n",
       "  14: [[10, 10, 10], [10, 10, 10]],\n",
       "  15: [[10, 10, 10], [10, 10, 10]],\n",
       "  16: [[10, 10, 10], [10, 10, 10], [10, 10, 10]],\n",
       "  17: [[10, 10, 10], [10, 10, 10], [10, 10, 10]],\n",
       "  18: [[10, 10, 10], [10, 10, 10], [10, 10, 10]],\n",
       "  19: [[10, 10, 10], [10, 10, 10], [10, 10, 10]],\n",
       "  21: 'hello!',\n",
       "  22: 'hello!',\n",
       "  23: <function __main__.say_hello()>,\n",
       "  24: function,\n",
       "  25: <function __main__.say_hello()>,\n",
       "  27: (4422629264, 4422629264),\n",
       "  28: True,\n",
       "  29: 'hello!',\n",
       "  30: 'say_hello',\n",
       "  31: 'say_hello'},\n",
       " 'get_ipython': <bound method InteractiveShell.get_ipython of <ipykernel.zmqshell.ZMQInteractiveShell object at 0x103086790>>,\n",
       " 'exit': <IPython.core.autocall.ZMQExitAutocall at 0x103413eb0>,\n",
       " 'quit': <IPython.core.autocall.ZMQExitAutocall at 0x103413eb0>,\n",
       " 'open': <function io.open(file, mode='r', buffering=-1, encoding=None, errors=None, newline=None, closefd=True, opener=None)>,\n",
       " '_': 'say_hello',\n",
       " '__': 'say_hello',\n",
       " '___': 'hello!',\n",
       " '__vsc_ipynb_file__': '/Users/eacardenase/Documents/Learning/Python/python_fundamentals/13 - Functions/02 - Custom Functions/Custom Functions.ipynb',\n",
       " '_i': 'a = 1\\nb = 2',\n",
       " '_ii': 'result = add(3, 2, 1, 10)\\nprint(f\"result = {result}\")',\n",
       " '_iii': 'result = add(3, 2)\\nprint(f\"result = {result}\")',\n",
       " '_i1': \"def say_hello():\\n    return 'hello!'\",\n",
       " 'say_hello': <function __main__.say_hello()>,\n",
       " '_i2': 'say_hello()',\n",
       " '_2': 'hello!',\n",
       " '_i3': 'say_hello()',\n",
       " '_3': 'hello!',\n",
       " '_i4': 'def generate_matrix(m, n, default_value):\\n    return [[[col[row]] for col in range(n)] for row in range(m)]',\n",
       " 'generate_matrix': <function __main__.generate_matrix(m, n, default_value)>,\n",
       " '_i5': 'generate_matrix(2, 3, 0)',\n",
       " '_i6': 'def generate_matrix(m, n, default_value):\\n    # return [[[col[row]] for col in range(n)] for row in range(m)]\\n    return [default_value for row in range(m)]',\n",
       " '_i7': 'generate_matrix(2, 3, 0)',\n",
       " '_7': [0, 0],\n",
       " '_i8': 'def generate_matrix(m, n, default_value):\\n    # return [[[col[row]] for col in range(n)] for row in range(m)]\\n    return [row for row in range(m)]',\n",
       " '_i9': 'generate_matrix(2, 3, 0)',\n",
       " '_9': [0, 1],\n",
       " '_i10': 'def generate_matrix(m, n, default_value):\\n    # return [[[col[row]] for col in range(n)] for row in range(m)]\\n    return [row for row in range(m)]\\n\\ngenerate_matrix(2, 3, 0)',\n",
       " '_10': [0, 1],\n",
       " '_i11': 'def generate_matrix(m, n, default_value):\\n    # return [[[col[row]] for col in range(n)] for row in range(m)]\\n    return [row for row in range(m)]\\n\\ngenerate_matrix(2, 3, 0)',\n",
       " '_11': [0, 1],\n",
       " '_i12': 'def generate_matrix(m, n, default_value):\\n    # return [[[col[row]] for col in range(n)] for row in range(m)]\\n    return [[row for col in range(n)] for row in range(m)]\\n\\ngenerate_matrix(2, 3, 0)',\n",
       " '_12': [[0, 0, 0], [1, 1, 1]],\n",
       " '_i13': 'def generate_matrix(m, n, default_value):\\n    # return [[[col[row]] for col in range(n)] for row in range(m)]\\n    return [[default_value for col in range(n)] for row in range(m)]\\n\\ngenerate_matrix(2, 3, 0)',\n",
       " '_13': [[0, 0, 0], [0, 0, 0]],\n",
       " '_i14': 'def generate_matrix(m, n, default_value):\\n    # return [[[col[row]] for col in range(n)] for row in range(m)]\\n    return [[default_value for col in range(n)] for row in range(m)]\\n\\ngenerate_matrix(2, 3, 10)',\n",
       " '_14': [[10, 10, 10], [10, 10, 10]],\n",
       " '_i15': 'def generate_matrix(m, n, default_value):\\n    # return [[[col[row]] for col in range(n)] for row in range(m)]\\n    return [[default_value for _ in range(n)] for _ in range(m)]\\n\\ngenerate_matrix(2, 3, 10)',\n",
       " '_15': [[10, 10, 10], [10, 10, 10]],\n",
       " '_i16': 'def generate_matrix(m, n, default_value):\\n    # return [[[col[row]] for col in range(n)] for row in range(m)]\\n    return [[default_value for _ in range(n)] for _ in range(m)]\\n\\ngenerate_matrix(3, 3, 10)',\n",
       " '_16': [[10, 10, 10], [10, 10, 10], [10, 10, 10]],\n",
       " '_i17': 'def generate_matrix(m, n, default_value):\\n    return [[default_value for _ in range(n)] for _ in range(m)]\\n\\ngenerate_matrix(3, 3, 10)',\n",
       " '_17': [[10, 10, 10], [10, 10, 10], [10, 10, 10]],\n",
       " '_i18': 'def generate_matrix(m, n, default_value):\\n    return [[default_value for col in range(n)] for row in range(m)]\\n\\ngenerate_matrix(3, 3, 10)',\n",
       " '_18': [[10, 10, 10], [10, 10, 10], [10, 10, 10]],\n",
       " '_i19': 'def generate_matrix(m, n, default_value):\\n    return [[default_value for i in range(n)] for j in range(m)]\\n\\ngenerate_matrix(3, 3, 10)',\n",
       " '_19': [[10, 10, 10], [10, 10, 10], [10, 10, 10]],\n",
       " '_i20': \"def say_hello():\\n    return 'hello!'\",\n",
       " '_i21': 'say_hello()',\n",
       " '_21': 'hello!',\n",
       " '_i22': 'say_hello()',\n",
       " '_22': 'hello!',\n",
       " '_i23': 'say_hello',\n",
       " '_23': <function __main__.say_hello()>,\n",
       " '_i24': 'type(say_hello)',\n",
       " '_24': function,\n",
       " '_i25': 'say_hello',\n",
       " '_25': <function __main__.say_hello()>,\n",
       " '_i26': 'alias = say_hello',\n",
       " 'alias': <function __main__.say_hello()>,\n",
       " '_i27': 'id(alias), id(say_hello)',\n",
       " '_27': (4422629264, 4422629264),\n",
       " '_i28': 'alias is say_hello',\n",
       " '_28': True,\n",
       " '_i29': 'alias()',\n",
       " '_29': 'hello!',\n",
       " '_i30': 'say_hello.__name__',\n",
       " '_30': 'say_hello',\n",
       " '_i31': 'alias.__name__',\n",
       " '_31': 'say_hello',\n",
       " '_i32': \"result = add(1, 2, 3)\\nprint(f'result = {result}')\",\n",
       " '_i33': \"def add(a, b, c):\\n    print(f'a = {a}')\\n    print(f'a = {b}')\\n    print(f'c = {c}')\\n    return a + b + c\",\n",
       " 'add': <function __main__.add(a, b, c)>,\n",
       " '_i34': \"result = add(1, 2, 3)\\nprint(f'result = {result}')\",\n",
       " 'result': 6,\n",
       " '_i35': \"result = add(3, 2, 1)\\nprint(f'result = {result}')\",\n",
       " '_i36': 'result = add(3, 2)\\nprint(f\"result = {result}\")',\n",
       " '_i37': 'result = add(3, 2, 1, 10)\\nprint(f\"result = {result}\")',\n",
       " '_i38': 'a = 1\\nb = 2',\n",
       " 'a': 1,\n",
       " 'b': 2,\n",
       " '_i39': 'globals()'}"
      ]
     },
     "execution_count": 39,
     "metadata": {},
     "output_type": "execute_result"
    }
   ],
   "source": [
    "globals()"
   ]
  },
  {
   "cell_type": "markdown",
   "metadata": {},
   "source": [
    "As you can see that dictionary contains, amongst a bunch of other stuff, the variables `a` and `b`:"
   ]
  },
  {
   "cell_type": "code",
   "execution_count": 40,
   "metadata": {},
   "outputs": [
    {
     "data": {
      "text/plain": [
       "1"
      ]
     },
     "execution_count": 40,
     "metadata": {},
     "output_type": "execute_result"
    }
   ],
   "source": [
    "globals()['a']"
   ]
  },
  {
   "cell_type": "code",
   "execution_count": 41,
   "metadata": {},
   "outputs": [
    {
     "data": {
      "text/plain": [
       "2"
      ]
     },
     "execution_count": 41,
     "metadata": {},
     "output_type": "execute_result"
    }
   ],
   "source": [
    "globals()['b']"
   ]
  },
  {
   "cell_type": "markdown",
   "metadata": {},
   "source": [
    "And the associated value is the object we assigned to the symbol."
   ]
  },
  {
   "cell_type": "markdown",
   "metadata": {},
   "source": [
    "The same happens when calling functions, except the namespace is local (to the call):"
   ]
  },
  {
   "cell_type": "code",
   "execution_count": 42,
   "metadata": {},
   "outputs": [],
   "source": [
    "def add(a, b, c):\n",
    "    print('initial namespace:', locals())\n",
    "    sum_ = a + b + c\n",
    "    print('after creating symbol sum_:', locals())\n",
    "    return sum_"
   ]
  },
  {
   "cell_type": "code",
   "execution_count": 43,
   "metadata": {},
   "outputs": [
    {
     "name": "stdout",
     "output_type": "stream",
     "text": [
      "initial namespace: {'a': 1, 'b': 2, 'c': 3}\n",
      "after creating symbol sum_: {'a': 1, 'b': 2, 'c': 3, 'sum_': 6}\n"
     ]
    },
    {
     "data": {
      "text/plain": [
       "6"
      ]
     },
     "execution_count": 43,
     "metadata": {},
     "output_type": "execute_result"
    }
   ],
   "source": [
    "add(1, 2, 3)"
   ]
  },
  {
   "cell_type": "code",
   "execution_count": 44,
   "metadata": {},
   "outputs": [
    {
     "name": "stdout",
     "output_type": "stream",
     "text": [
      "initial namespace: {'a': 3, 'b': 2, 'c': 1}\n",
      "after creating symbol sum_: {'a': 3, 'b': 2, 'c': 1, 'sum_': 6}\n"
     ]
    },
    {
     "data": {
      "text/plain": [
       "6"
      ]
     },
     "execution_count": 44,
     "metadata": {},
     "output_type": "execute_result"
    }
   ],
   "source": [
    "add(3, 2, 1)"
   ]
  },
  {
   "cell_type": "markdown",
   "metadata": {},
   "source": [
    "Let's try a few more examples to get a good feel for writing functions:"
   ]
  },
  {
   "cell_type": "code",
   "execution_count": 45,
   "metadata": {},
   "outputs": [],
   "source": [
    "def find_max(a, b, c):\n",
    "    max_ = a\n",
    "    if b > max_:\n",
    "        max_ = b\n",
    "    if c > max_:\n",
    "        max_ = c\n",
    "    return max_"
   ]
  },
  {
   "cell_type": "code",
   "execution_count": 46,
   "metadata": {},
   "outputs": [
    {
     "data": {
      "text/plain": [
       "30"
      ]
     },
     "execution_count": 46,
     "metadata": {},
     "output_type": "execute_result"
    }
   ],
   "source": [
    "find_max(10, 20, 30)"
   ]
  },
  {
   "cell_type": "code",
   "execution_count": 47,
   "metadata": {},
   "outputs": [],
   "source": [
    "from datetime import datetime\n",
    "\n",
    "def log(message):\n",
    "    curr_time = datetime.utcnow().isoformat()\n",
    "    print(f'{curr_time} - [{message}]')"
   ]
  },
  {
   "cell_type": "code",
   "execution_count": 48,
   "metadata": {},
   "outputs": [
    {
     "name": "stdout",
     "output_type": "stream",
     "text": [
      "2024-12-09T20:04:07.377942 - [log 1]\n"
     ]
    }
   ],
   "source": [
    "log('log 1')"
   ]
  },
  {
   "cell_type": "code",
   "execution_count": 49,
   "metadata": {},
   "outputs": [
    {
     "name": "stdout",
     "output_type": "stream",
     "text": [
      "2024-12-09T20:04:15.569643 - [log 2]\n"
     ]
    }
   ],
   "source": [
    "log('log 2')"
   ]
  },
  {
   "cell_type": "markdown",
   "metadata": {},
   "source": [
    "Notice how the current time changes every time we call the function."
   ]
  },
  {
   "cell_type": "markdown",
   "metadata": {},
   "source": [
    "Let's go back to a previous example, where we kept having to copy/paste the same code, just so we could run it multiple times:"
   ]
  },
  {
   "cell_type": "code",
   "execution_count": 50,
   "metadata": {},
   "outputs": [
    {
     "name": "stdout",
     "output_type": "stream",
     "text": [
      "processing all positive elements\n"
     ]
    }
   ],
   "source": [
    "data = [1, 2, 3, 4, 5, 6]\n",
    "\n",
    "for element in data:\n",
    "    if element < 0:\n",
    "        break\n",
    "else: # no break\n",
    "    print('processing all positive elements')"
   ]
  },
  {
   "cell_type": "markdown",
   "metadata": {},
   "source": [
    "Basically we were looking to write some code that would check if all elements of an iterable were positive."
   ]
  },
  {
   "cell_type": "markdown",
   "metadata": {},
   "source": [
    "We can easily convert this to a function that we can re-use as many times as we want throughout our code:"
   ]
  },
  {
   "cell_type": "code",
   "execution_count": 51,
   "metadata": {},
   "outputs": [],
   "source": [
    "def is_all_positive(data):\n",
    "    for element in data:\n",
    "        if element < 0:\n",
    "            return False\n",
    "    return True"
   ]
  },
  {
   "cell_type": "markdown",
   "metadata": {},
   "source": [
    "Now we can re-use it as many times as we want:"
   ]
  },
  {
   "cell_type": "code",
   "execution_count": 52,
   "metadata": {},
   "outputs": [
    {
     "data": {
      "text/plain": [
       "True"
      ]
     },
     "execution_count": 52,
     "metadata": {},
     "output_type": "execute_result"
    }
   ],
   "source": [
    "is_all_positive([1, 2, 3, 4, 5])"
   ]
  },
  {
   "cell_type": "code",
   "execution_count": 53,
   "metadata": {},
   "outputs": [
    {
     "data": {
      "text/plain": [
       "False"
      ]
     },
     "execution_count": 53,
     "metadata": {},
     "output_type": "execute_result"
    }
   ],
   "source": [
    "is_all_positive({10, 20, -3})"
   ]
  },
  {
   "cell_type": "code",
   "execution_count": 54,
   "metadata": {},
   "outputs": [],
   "source": [
    "d = {'a': 10, 'b': 20, 'c': -30}"
   ]
  },
  {
   "cell_type": "code",
   "execution_count": 55,
   "metadata": {},
   "outputs": [
    {
     "data": {
      "text/plain": [
       "False"
      ]
     },
     "execution_count": 55,
     "metadata": {},
     "output_type": "execute_result"
    }
   ],
   "source": [
    "is_all_positive(d.values())"
   ]
  },
  {
   "cell_type": "code",
   "execution_count": 56,
   "metadata": {},
   "outputs": [
    {
     "data": {
      "text/plain": [
       "True"
      ]
     },
     "execution_count": 56,
     "metadata": {},
     "output_type": "execute_result"
    }
   ],
   "source": [
    "is_all_positive(range(10))"
   ]
  },
  {
   "cell_type": "markdown",
   "metadata": {},
   "source": [
    "Of course, we can specify as many positional arguments as we want:"
   ]
  },
  {
   "cell_type": "code",
   "execution_count": 57,
   "metadata": {},
   "outputs": [],
   "source": [
    "def gen_matrix(m, n, default_value):\n",
    "    # generate an mxn matrix with each element initialized to default_value\n",
    "    return [[default_value for i in range(n)] for j in range(m)]"
   ]
  },
  {
   "cell_type": "code",
   "execution_count": 58,
   "metadata": {},
   "outputs": [
    {
     "data": {
      "text/plain": [
       "[[1, 1], [1, 1]]"
      ]
     },
     "execution_count": 58,
     "metadata": {},
     "output_type": "execute_result"
    }
   ],
   "source": [
    "gen_matrix(2, 2, 1)"
   ]
  },
  {
   "cell_type": "code",
   "execution_count": 59,
   "metadata": {},
   "outputs": [
    {
     "data": {
      "text/plain": [
       "[[1, 1, 1, 1, 1, 1, 1, 1],\n",
       " [1, 1, 1, 1, 1, 1, 1, 1],\n",
       " [1, 1, 1, 1, 1, 1, 1, 1],\n",
       " [1, 1, 1, 1, 1, 1, 1, 1]]"
      ]
     },
     "execution_count": 59,
     "metadata": {},
     "output_type": "execute_result"
    }
   ],
   "source": [
    "gen_matrix(4, 8, 1)"
   ]
  },
  {
   "cell_type": "markdown",
   "metadata": {},
   "source": [
    "It is important to give meaningful names to our parameters - it makes understanding what the parameter means easier."
   ]
  },
  {
   "cell_type": "markdown",
   "metadata": {},
   "source": [
    "For the above example, I would do this instead:"
   ]
  },
  {
   "cell_type": "code",
   "execution_count": 60,
   "metadata": {},
   "outputs": [],
   "source": [
    "def gen_matrix(rows, cols, default_value):\n",
    "    return [[default_value for i in range(cols)] for j in range(rows)]"
   ]
  },
  {
   "cell_type": "code",
   "execution_count": 61,
   "metadata": {},
   "outputs": [
    {
     "data": {
      "text/plain": [
       "[[1, 1], [1, 1], [1, 1]]"
      ]
     },
     "execution_count": 61,
     "metadata": {},
     "output_type": "execute_result"
    }
   ],
   "source": [
    "gen_matrix(3, 2, 1)"
   ]
  },
  {
   "cell_type": "markdown",
   "metadata": {},
   "source": [
    "Although the parameters are defined as positional parameters, Python supports **calling** the function with **named** arguments as follows:"
   ]
  },
  {
   "cell_type": "code",
   "execution_count": 62,
   "metadata": {},
   "outputs": [
    {
     "data": {
      "text/plain": [
       "[[0, 0, 0, 0, 0], [0, 0, 0, 0, 0], [0, 0, 0, 0, 0]]"
      ]
     },
     "execution_count": 62,
     "metadata": {},
     "output_type": "execute_result"
    }
   ],
   "source": [
    "gen_matrix(rows=3, cols=5, default_value=0)"
   ]
  },
  {
   "cell_type": "markdown",
   "metadata": {},
   "source": [
    "The advantage of this is that we do not have to rely on getting the positions of the arguments correct - as long as we are naming them, Python will assign them to their respective parameter in the function."
   ]
  },
  {
   "cell_type": "markdown",
   "metadata": {},
   "source": [
    "So these two calls work the same:"
   ]
  },
  {
   "cell_type": "code",
   "execution_count": 63,
   "metadata": {},
   "outputs": [
    {
     "data": {
      "text/plain": [
       "[[1, 1, 1, 1, 1, 1, 1, 1], [1, 1, 1, 1, 1, 1, 1, 1]]"
      ]
     },
     "execution_count": 63,
     "metadata": {},
     "output_type": "execute_result"
    }
   ],
   "source": [
    "gen_matrix(2, 8, 1)"
   ]
  },
  {
   "cell_type": "code",
   "execution_count": 64,
   "metadata": {},
   "outputs": [
    {
     "data": {
      "text/plain": [
       "[[1, 1, 1, 1, 1, 1, 1, 1], [1, 1, 1, 1, 1, 1, 1, 1]]"
      ]
     },
     "execution_count": 64,
     "metadata": {},
     "output_type": "execute_result"
    }
   ],
   "source": [
    "gen_matrix(cols=8, rows=2, default_value=1)"
   ]
  },
  {
   "cell_type": "markdown",
   "metadata": {},
   "source": [
    "We would not have obtained the same result if we have just switched the unnamed arguments around:"
   ]
  },
  {
   "cell_type": "code",
   "execution_count": 65,
   "metadata": {},
   "outputs": [
    {
     "data": {
      "text/plain": [
       "[[1, 1], [1, 1], [1, 1], [1, 1], [1, 1], [1, 1], [1, 1], [1, 1]]"
      ]
     },
     "execution_count": 65,
     "metadata": {},
     "output_type": "execute_result"
    }
   ],
   "source": [
    "gen_matrix(8, 2, 1)"
   ]
  },
  {
   "cell_type": "markdown",
   "metadata": {},
   "source": [
    "So, although our function uses **positional** parameters, we can choose to pass them **positionally** or **named** (also referred to as **keyword** arguments)."
   ]
  },
  {
   "cell_type": "markdown",
   "metadata": {},
   "source": [
    "This becomes really useful, when we have a lot of parameters in a function, or when working with parameters that specify default values (we'll see this later)."
   ]
  },
  {
   "cell_type": "markdown",
   "metadata": {},
   "source": [
    "It is possible to call a function that defines positional parameters using a **mix** of positional and named arguments."
   ]
  },
  {
   "cell_type": "markdown",
   "metadata": {},
   "source": [
    "However, we have to be careful, once we start using named arguments in a call, all subsequent arguments must be named too."
   ]
  },
  {
   "cell_type": "code",
   "execution_count": 66,
   "metadata": {},
   "outputs": [
    {
     "data": {
      "text/plain": [
       "[[1, 1, 1, 1, 1], [1, 1, 1, 1, 1], [1, 1, 1, 1, 1]]"
      ]
     },
     "execution_count": 66,
     "metadata": {},
     "output_type": "execute_result"
    }
   ],
   "source": [
    "gen_matrix(3, cols=5, default_value=1)"
   ]
  },
  {
   "cell_type": "markdown",
   "metadata": {},
   "source": [
    "As you can see the first argument was passed by position, so it got assigned to `rows` in our function call, and the remaining arguments were passed as named arguments."
   ]
  },
  {
   "cell_type": "markdown",
   "metadata": {},
   "source": [
    "But this would not work (how could Python know what goes where?):"
   ]
  },
  {
   "cell_type": "code",
   "execution_count": 67,
   "metadata": {},
   "outputs": [
    {
     "ename": "SyntaxError",
     "evalue": "positional argument follows keyword argument (1319220191.py, line 1)",
     "output_type": "error",
     "traceback": [
      "\u001b[0;36m  Cell \u001b[0;32mIn[67], line 1\u001b[0;36m\u001b[0m\n\u001b[0;31m    gen_matrix(default_value=1, 3, 3)\u001b[0m\n\u001b[0m                                    ^\u001b[0m\n\u001b[0;31mSyntaxError\u001b[0m\u001b[0;31m:\u001b[0m positional argument follows keyword argument\n"
     ]
    }
   ],
   "source": [
    "gen_matrix(default_value=1, 3, 3)"
   ]
  },
  {
   "cell_type": "code",
   "execution_count": 68,
   "metadata": {},
   "outputs": [
    {
     "ename": "TypeError",
     "evalue": "gen_matrix() got multiple values for argument 'rows'",
     "output_type": "error",
     "traceback": [
      "\u001b[0;31m---------------------------------------------------------------------------\u001b[0m",
      "\u001b[0;31mTypeError\u001b[0m                                 Traceback (most recent call last)",
      "Cell \u001b[0;32mIn[68], line 1\u001b[0m\n\u001b[0;32m----> 1\u001b[0m \u001b[43mgen_matrix\u001b[49m\u001b[43m(\u001b[49m\u001b[38;5;241;43m3\u001b[39;49m\u001b[43m,\u001b[49m\u001b[43m \u001b[49m\u001b[43mrows\u001b[49m\u001b[38;5;241;43m=\u001b[39;49m\u001b[38;5;241;43m5\u001b[39;49m\u001b[43m,\u001b[49m\u001b[43m \u001b[49m\u001b[43mdefault_value\u001b[49m\u001b[38;5;241;43m=\u001b[39;49m\u001b[38;5;241;43m1\u001b[39;49m\u001b[43m)\u001b[49m\n",
      "\u001b[0;31mTypeError\u001b[0m: gen_matrix() got multiple values for argument 'rows'"
     ]
    }
   ],
   "source": [
    "gen_matrix(3, rows=5, default_value=1)"
   ]
  },
  {
   "cell_type": "markdown",
   "metadata": {},
   "source": [
    "One last thing I would like to mention regards a naming convention often used when we have variables whose values we are not really interested in:"
   ]
  },
  {
   "cell_type": "code",
   "execution_count": 69,
   "metadata": {},
   "outputs": [],
   "source": [
    "def gen_matrix(m, n, default_value):\n",
    "    # generate an mxn matrix with each element initialized to default_value\n",
    "    return [[default_value for i in range(n)] for j in range(m)]"
   ]
  },
  {
   "cell_type": "markdown",
   "metadata": {},
   "source": [
    "You'll notice that we don't actually use `i` and `j` - they are just there because we have a `for` loop that needs to be repeated a certain number of times - but the actual value is ignored."
   ]
  },
  {
   "cell_type": "markdown",
   "metadata": {},
   "source": [
    "Remember that valid Python variables in Python can start with an underscore (`_`)."
   ]
  },
  {
   "cell_type": "markdown",
   "metadata": {},
   "source": [
    "In fact, the variable name could be *just* an underscore:"
   ]
  },
  {
   "cell_type": "code",
   "execution_count": 70,
   "metadata": {},
   "outputs": [],
   "source": [
    "_ = 'python'"
   ]
  },
  {
   "cell_type": "code",
   "execution_count": 71,
   "metadata": {},
   "outputs": [
    {
     "name": "stdout",
     "output_type": "stream",
     "text": [
      "python\n"
     ]
    }
   ],
   "source": [
    "print(_)"
   ]
  },
  {
   "cell_type": "markdown",
   "metadata": {},
   "source": [
    "There is **nothing** special about using a variable named this way."
   ]
  },
  {
   "cell_type": "markdown",
   "metadata": {},
   "source": [
    "In fact, we could even use two underscores:"
   ]
  },
  {
   "cell_type": "code",
   "execution_count": 72,
   "metadata": {},
   "outputs": [],
   "source": [
    "__ = 'rocks'"
   ]
  },
  {
   "cell_type": "code",
   "execution_count": 73,
   "metadata": {},
   "outputs": [
    {
     "name": "stdout",
     "output_type": "stream",
     "text": [
      "rocks\n"
     ]
    }
   ],
   "source": [
    "print(__)"
   ]
  },
  {
   "cell_type": "markdown",
   "metadata": {},
   "source": [
    "The convention is to use these `_` by themselves when we are dealing with variables whose values are not used elsewhere."
   ]
  },
  {
   "cell_type": "markdown",
   "metadata": {},
   "source": [
    "In our case, we have `i` and `j`, and this is a prime example of where you might see the code written as:"
   ]
  },
  {
   "cell_type": "code",
   "execution_count": 75,
   "metadata": {},
   "outputs": [],
   "source": [
    "def gen_matrix(m, n, default_value):\n",
    "    # generate an mxn matrix with each element initialized to default_value\n",
    "    return [[default_value for _ in range(n)] for __ in range(m)]"
   ]
  },
  {
   "cell_type": "code",
   "execution_count": 76,
   "metadata": {},
   "outputs": [
    {
     "data": {
      "text/plain": [
       "[[0, 0], [0, 0], [0, 0]]"
      ]
     },
     "execution_count": 76,
     "metadata": {},
     "output_type": "execute_result"
    }
   ],
   "source": [
    "gen_matrix(3, 2, 0)"
   ]
  },
  {
   "cell_type": "markdown",
   "metadata": {},
   "source": [
    "Again, there is nothing special about this code - people often use it simply to indicate that the loop variables `_` and `__` are not actually used. Just a naming convention, nothing more."
   ]
  }
 ],
 "metadata": {
  "kernelspec": {
   "display_name": "env",
   "language": "python",
   "name": "python3"
  },
  "language_info": {
   "codemirror_mode": {
    "name": "ipython",
    "version": 3
   },
   "file_extension": ".py",
   "mimetype": "text/x-python",
   "name": "python",
   "nbconvert_exporter": "python",
   "pygments_lexer": "ipython3",
   "version": "3.9.6"
  }
 },
 "nbformat": 4,
 "nbformat_minor": 4
}
