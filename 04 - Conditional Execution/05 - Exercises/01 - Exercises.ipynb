{
 "cells": [
  {
   "cell_type": "markdown",
   "id": "sensitive-saint",
   "metadata": {},
   "source": [
    "### Exercises"
   ]
  },
  {
   "cell_type": "markdown",
   "id": "particular-humidity",
   "metadata": {},
   "source": [
    "#### Exercise 1"
   ]
  },
  {
   "cell_type": "markdown",
   "id": "trained-masters",
   "metadata": {},
   "source": [
    "Given a variable `a` (containing any value), re-assign the value `\"N/A\"` if `a` is `None`, and leave `a` unchanged otherwise. Use an `if...else...` statement."
   ]
  },
  {
   "cell_type": "code",
   "execution_count": 2,
   "id": "ebdd4b85",
   "metadata": {},
   "outputs": [
    {
     "data": {
      "text/plain": [
       "'N/A'"
      ]
     },
     "execution_count": 2,
     "metadata": {},
     "output_type": "execute_result"
    }
   ],
   "source": [
    "a = None\n",
    "\n",
    "if a == None:\n",
    "    a = \"N/A\"\n",
    "\n",
    "a"
   ]
  },
  {
   "cell_type": "markdown",
   "id": "growing-acoustic",
   "metadata": {},
   "source": [
    "#### Exercise 2"
   ]
  },
  {
   "cell_type": "markdown",
   "id": "hazardous-formula",
   "metadata": {},
   "source": [
    "Do the same thing as Question 1, but this time use a ternary operator."
   ]
  },
  {
   "cell_type": "code",
   "execution_count": 4,
   "id": "8a07ffee",
   "metadata": {},
   "outputs": [
    {
     "data": {
      "text/plain": [
       "'N/A'"
      ]
     },
     "execution_count": 4,
     "metadata": {},
     "output_type": "execute_result"
    }
   ],
   "source": [
    "a = \"N/A\" if a == None else a\n",
    "\n",
    "a"
   ]
  },
  {
   "cell_type": "markdown",
   "id": "seasonal-bronze",
   "metadata": {},
   "source": [
    "#### Exercise 3"
   ]
  },
  {
   "cell_type": "markdown",
   "id": "atomic-authority",
   "metadata": {},
   "source": [
    "Given an credit score `score`, assign a string value to another variable `rating` based on the following scale:\n",
    "\n",
    "- [0, 580) --> Poor\n",
    "- [580, 670) --> Fair\n",
    "- [670, 740) --> Good\n",
    "- [740, 800) --> Very Good\n",
    "- [800, 850] --> Excellent\n"
   ]
  },
  {
   "cell_type": "code",
   "execution_count": 15,
   "id": "7efba41e",
   "metadata": {},
   "outputs": [
    {
     "data": {
      "text/plain": [
       "'Fair'"
      ]
     },
     "execution_count": 15,
     "metadata": {},
     "output_type": "execute_result"
    }
   ],
   "source": [
    "score = 670\n",
    "\n",
    "if score  > 800:\n",
    "    rating = \"Excelent\"\n",
    "elif score > 740:\n",
    "    rating = \"Very Good\"\n",
    "elif score > 670:\n",
    "    rating = \"Good\"\n",
    "elif score > 580:\n",
    "    rating = \"Fair\"\n",
    "else:\n",
    "    rating = \"Poor\"\n",
    "\n",
    "rating"
   ]
  },
  {
   "cell_type": "markdown",
   "id": "fiscal-estate",
   "metadata": {},
   "source": [
    "#### Exercise 4"
   ]
  },
  {
   "cell_type": "markdown",
   "id": "overhead-candidate",
   "metadata": {},
   "source": [
    "Given an `elapsed` time (in seconds), write code to set a variable `magnitude` based on the following conditions:\n",
    "\n",
    "- if elapsed time is less than 1 minute, `magnitude` --> `'seconds'`\n",
    "- if elapsed time is more than 1 minute, but less than 1 hour, `magnitude` --> `'minutes'`\n",
    "- if elapsed time is more than 1 hour, but less than 1 day, `magnitude` --> `'hours'`\n",
    "- if elapsed time is more than 1 day, but less than 1 week: `magnitude` --> `'days'`\n",
    "- if elapsed time is more than 1 week, `magnitude` --> '`weeks'`"
   ]
  },
  {
   "cell_type": "code",
   "execution_count": 17,
   "id": "06255910",
   "metadata": {},
   "outputs": [],
   "source": [
    "seconds_in_minute = 60\n",
    "seconds_in_hour = 60 * seconds_in_minute\n",
    "seconds_in_day = 24 * seconds_in_hour\n",
    "seconds_in_week = 7 * seconds_in_day"
   ]
  },
  {
   "cell_type": "code",
   "execution_count": 20,
   "id": "023f822d",
   "metadata": {},
   "outputs": [
    {
     "data": {
      "text/plain": [
       "'days'"
      ]
     },
     "execution_count": 20,
     "metadata": {},
     "output_type": "execute_result"
    }
   ],
   "source": [
    "# elapsed = 7687\n",
    "elapsed = 48 * 60 * 60  # 48 hours in seconds\n",
    "# elapsed = 3 * 7 * 24 * 60 * 60  # 3 weeks in seconds\n",
    "\n",
    "if elapsed < seconds_in_minute:\n",
    "    magnitude = 'seconds'\n",
    "elif elapsed < seconds_in_hour:\n",
    "    magnitude = 'minutes'\n",
    "elif elapsed < seconds_in_day:\n",
    "    magnitude = 'hours'\n",
    "elif elapsed < seconds_in_week:\n",
    "    magnitude = 'days'\n",
    "else:\n",
    "    magnitude = 'weeks'\n",
    "\n",
    "magnitude"
   ]
  }
 ],
 "metadata": {
  "kernelspec": {
   "display_name": "env",
   "language": "python",
   "name": "python3"
  },
  "language_info": {
   "codemirror_mode": {
    "name": "ipython",
    "version": 3
   },
   "file_extension": ".py",
   "mimetype": "text/x-python",
   "name": "python",
   "nbconvert_exporter": "python",
   "pygments_lexer": "ipython3",
   "version": "3.9.6"
  }
 },
 "nbformat": 4,
 "nbformat_minor": 5
}
